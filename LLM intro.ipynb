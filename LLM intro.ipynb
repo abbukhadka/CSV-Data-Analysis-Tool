{
 "cells": [
  {
   "cell_type": "code",
   "execution_count": 1,
   "id": "772c5adf-60d7-4510-97ed-babc2d6ef418",
   "metadata": {},
   "outputs": [
    {
     "name": "stdout",
     "output_type": "stream",
     "text": [
      "Requirement already satisfied: langchain==0.0.181 in /Users/abbukhadka/opt/anaconda3/lib/python3.13/site-packages (0.0.181)\n",
      "Requirement already satisfied: PyYAML>=5.4.1 in /Users/abbukhadka/opt/anaconda3/lib/python3.13/site-packages (from langchain==0.0.181) (6.0.2)\n",
      "Requirement already satisfied: SQLAlchemy<3,>=1.4 in /Users/abbukhadka/opt/anaconda3/lib/python3.13/site-packages (from langchain==0.0.181) (2.0.39)\n",
      "Requirement already satisfied: aiohttp<4.0.0,>=3.8.3 in /Users/abbukhadka/opt/anaconda3/lib/python3.13/site-packages (from langchain==0.0.181) (3.11.10)\n",
      "Requirement already satisfied: dataclasses-json<0.6.0,>=0.5.7 in /Users/abbukhadka/opt/anaconda3/lib/python3.13/site-packages (from langchain==0.0.181) (0.5.9)\n",
      "Requirement already satisfied: numexpr<3.0.0,>=2.8.4 in /Users/abbukhadka/opt/anaconda3/lib/python3.13/site-packages (from langchain==0.0.181) (2.10.1)\n",
      "Requirement already satisfied: numpy<2,>=1 in /Users/abbukhadka/opt/anaconda3/lib/python3.13/site-packages (from langchain==0.0.181) (1.26.4)\n",
      "Requirement already satisfied: openapi-schema-pydantic<2.0,>=1.2 in /Users/abbukhadka/opt/anaconda3/lib/python3.13/site-packages (from langchain==0.0.181) (1.2.4)\n",
      "Requirement already satisfied: pydantic<2,>=1 in /Users/abbukhadka/opt/anaconda3/lib/python3.13/site-packages (from langchain==0.0.181) (1.10.22)\n",
      "Requirement already satisfied: requests<3,>=2 in /Users/abbukhadka/opt/anaconda3/lib/python3.13/site-packages (from langchain==0.0.181) (2.32.3)\n",
      "Requirement already satisfied: tenacity<9.0.0,>=8.1.0 in /Users/abbukhadka/opt/anaconda3/lib/python3.13/site-packages (from langchain==0.0.181) (8.5.0)\n",
      "Requirement already satisfied: aiohappyeyeballs>=2.3.0 in /Users/abbukhadka/opt/anaconda3/lib/python3.13/site-packages (from aiohttp<4.0.0,>=3.8.3->langchain==0.0.181) (2.4.4)\n",
      "Requirement already satisfied: aiosignal>=1.1.2 in /Users/abbukhadka/opt/anaconda3/lib/python3.13/site-packages (from aiohttp<4.0.0,>=3.8.3->langchain==0.0.181) (1.2.0)\n",
      "Requirement already satisfied: attrs>=17.3.0 in /Users/abbukhadka/opt/anaconda3/lib/python3.13/site-packages (from aiohttp<4.0.0,>=3.8.3->langchain==0.0.181) (24.3.0)\n",
      "Requirement already satisfied: frozenlist>=1.1.1 in /Users/abbukhadka/opt/anaconda3/lib/python3.13/site-packages (from aiohttp<4.0.0,>=3.8.3->langchain==0.0.181) (1.5.0)\n",
      "Requirement already satisfied: multidict<7.0,>=4.5 in /Users/abbukhadka/opt/anaconda3/lib/python3.13/site-packages (from aiohttp<4.0.0,>=3.8.3->langchain==0.0.181) (6.1.0)\n",
      "Requirement already satisfied: propcache>=0.2.0 in /Users/abbukhadka/opt/anaconda3/lib/python3.13/site-packages (from aiohttp<4.0.0,>=3.8.3->langchain==0.0.181) (0.3.1)\n",
      "Requirement already satisfied: yarl<2.0,>=1.17.0 in /Users/abbukhadka/opt/anaconda3/lib/python3.13/site-packages (from aiohttp<4.0.0,>=3.8.3->langchain==0.0.181) (1.18.0)\n",
      "Requirement already satisfied: marshmallow<4.0.0,>=3.3.0 in /Users/abbukhadka/opt/anaconda3/lib/python3.13/site-packages (from dataclasses-json<0.6.0,>=0.5.7->langchain==0.0.181) (3.26.1)\n",
      "Requirement already satisfied: marshmallow-enum<2.0.0,>=1.5.1 in /Users/abbukhadka/opt/anaconda3/lib/python3.13/site-packages (from dataclasses-json<0.6.0,>=0.5.7->langchain==0.0.181) (1.5.1)\n",
      "Requirement already satisfied: typing-inspect>=0.4.0 in /Users/abbukhadka/opt/anaconda3/lib/python3.13/site-packages (from dataclasses-json<0.6.0,>=0.5.7->langchain==0.0.181) (0.9.0)\n",
      "Requirement already satisfied: packaging>=17.0 in /Users/abbukhadka/opt/anaconda3/lib/python3.13/site-packages (from marshmallow<4.0.0,>=3.3.0->dataclasses-json<0.6.0,>=0.5.7->langchain==0.0.181) (24.2)\n",
      "Requirement already satisfied: typing-extensions>=4.2.0 in /Users/abbukhadka/opt/anaconda3/lib/python3.13/site-packages (from pydantic<2,>=1->langchain==0.0.181) (4.12.2)\n",
      "Requirement already satisfied: charset-normalizer<4,>=2 in /Users/abbukhadka/opt/anaconda3/lib/python3.13/site-packages (from requests<3,>=2->langchain==0.0.181) (3.3.2)\n",
      "Requirement already satisfied: idna<4,>=2.5 in /Users/abbukhadka/opt/anaconda3/lib/python3.13/site-packages (from requests<3,>=2->langchain==0.0.181) (3.7)\n",
      "Requirement already satisfied: urllib3<3,>=1.21.1 in /Users/abbukhadka/opt/anaconda3/lib/python3.13/site-packages (from requests<3,>=2->langchain==0.0.181) (2.3.0)\n",
      "Requirement already satisfied: certifi>=2017.4.17 in /Users/abbukhadka/opt/anaconda3/lib/python3.13/site-packages (from requests<3,>=2->langchain==0.0.181) (2025.6.15)\n",
      "Requirement already satisfied: mypy-extensions>=0.3.0 in /Users/abbukhadka/opt/anaconda3/lib/python3.13/site-packages (from typing-inspect>=0.4.0->dataclasses-json<0.6.0,>=0.5.7->langchain==0.0.181) (1.0.0)\n"
     ]
    }
   ],
   "source": [
    "!pip install langchain==0.0.181"
   ]
  },
  {
   "cell_type": "code",
   "execution_count": 2,
   "id": "10b820d1-6b99-456f-b9c7-bb87fdb73cf1",
   "metadata": {},
   "outputs": [
    {
     "name": "stdout",
     "output_type": "stream",
     "text": [
      "Requirement already satisfied: Openai==0.27.7 in /Users/abbukhadka/opt/anaconda3/lib/python3.13/site-packages (0.27.7)\n",
      "Requirement already satisfied: requests>=2.20 in /Users/abbukhadka/opt/anaconda3/lib/python3.13/site-packages (from Openai==0.27.7) (2.32.3)\n",
      "Requirement already satisfied: tqdm in /Users/abbukhadka/opt/anaconda3/lib/python3.13/site-packages (from Openai==0.27.7) (4.67.1)\n",
      "Requirement already satisfied: aiohttp in /Users/abbukhadka/opt/anaconda3/lib/python3.13/site-packages (from Openai==0.27.7) (3.11.10)\n",
      "Requirement already satisfied: charset-normalizer<4,>=2 in /Users/abbukhadka/opt/anaconda3/lib/python3.13/site-packages (from requests>=2.20->Openai==0.27.7) (3.3.2)\n",
      "Requirement already satisfied: idna<4,>=2.5 in /Users/abbukhadka/opt/anaconda3/lib/python3.13/site-packages (from requests>=2.20->Openai==0.27.7) (3.7)\n",
      "Requirement already satisfied: urllib3<3,>=1.21.1 in /Users/abbukhadka/opt/anaconda3/lib/python3.13/site-packages (from requests>=2.20->Openai==0.27.7) (2.3.0)\n",
      "Requirement already satisfied: certifi>=2017.4.17 in /Users/abbukhadka/opt/anaconda3/lib/python3.13/site-packages (from requests>=2.20->Openai==0.27.7) (2025.6.15)\n",
      "Requirement already satisfied: aiohappyeyeballs>=2.3.0 in /Users/abbukhadka/opt/anaconda3/lib/python3.13/site-packages (from aiohttp->Openai==0.27.7) (2.4.4)\n",
      "Requirement already satisfied: aiosignal>=1.1.2 in /Users/abbukhadka/opt/anaconda3/lib/python3.13/site-packages (from aiohttp->Openai==0.27.7) (1.2.0)\n",
      "Requirement already satisfied: attrs>=17.3.0 in /Users/abbukhadka/opt/anaconda3/lib/python3.13/site-packages (from aiohttp->Openai==0.27.7) (24.3.0)\n",
      "Requirement already satisfied: frozenlist>=1.1.1 in /Users/abbukhadka/opt/anaconda3/lib/python3.13/site-packages (from aiohttp->Openai==0.27.7) (1.5.0)\n",
      "Requirement already satisfied: multidict<7.0,>=4.5 in /Users/abbukhadka/opt/anaconda3/lib/python3.13/site-packages (from aiohttp->Openai==0.27.7) (6.1.0)\n",
      "Requirement already satisfied: propcache>=0.2.0 in /Users/abbukhadka/opt/anaconda3/lib/python3.13/site-packages (from aiohttp->Openai==0.27.7) (0.3.1)\n",
      "Requirement already satisfied: yarl<2.0,>=1.17.0 in /Users/abbukhadka/opt/anaconda3/lib/python3.13/site-packages (from aiohttp->Openai==0.27.7) (1.18.0)\n"
     ]
    }
   ],
   "source": [
    "!pip install Openai==0.27.7"
   ]
  },
  {
   "cell_type": "code",
   "execution_count": 2,
   "id": "0ada01f9-72ce-4d7c-9abf-10a2ace6a8ea",
   "metadata": {},
   "outputs": [],
   "source": [
    "import os\n",
    "gemini_api_key = os.getenv(\"GEMINI_API_KEY\")"
   ]
  },
  {
   "cell_type": "code",
   "execution_count": null,
   "id": "c50d628f-8c1f-4881-9376-b0e0a622dfc7",
   "metadata": {},
   "outputs": [],
   "source": [
    "from langchain.chat_models import ChatOpenAI"
   ]
  },
  {
   "cell_type": "code",
   "execution_count": 10,
   "id": "b5d827b3-3aad-4833-ace0-d23a57640b2d",
   "metadata": {},
   "outputs": [],
   "source": [
    "from langchain.schema import HumanMessage\n"
   ]
  },
  {
   "cell_type": "code",
   "execution_count": 11,
   "id": "c4dd11ee-a4e0-433b-8d02-4c624203954d",
   "metadata": {},
   "outputs": [],
   "source": [
    "llm = ChatOpenAI(model_name = \"gpt-3.5-turbo\")"
   ]
  },
  {
   "cell_type": "code",
   "execution_count": 13,
   "id": "1e17b8ac-d874-4eb4-b4e5-f8bfa39ca6e1",
   "metadata": {},
   "outputs": [],
   "source": [
    "llm = ChatOpenAI(model_name=\"gpt-3.5-turbo\", temperature=0)"
   ]
  },
  {
   "cell_type": "code",
   "execution_count": 14,
   "id": "39bc3f72-6fa7-4f2a-b033-c805769618f3",
   "metadata": {},
   "outputs": [
    {
     "name": "stderr",
     "output_type": "stream",
     "text": [
      "Retrying langchain.chat_models.openai.ChatOpenAI.completion_with_retry.<locals>._completion_with_retry in 1.0 seconds as it raised RateLimitError: You exceeded your current quota, please check your plan and billing details. For more information on this error, read the docs: https://platform.openai.com/docs/guides/error-codes/api-errors..\n",
      "Retrying langchain.chat_models.openai.ChatOpenAI.completion_with_retry.<locals>._completion_with_retry in 2.0 seconds as it raised RateLimitError: You exceeded your current quota, please check your plan and billing details. For more information on this error, read the docs: https://platform.openai.com/docs/guides/error-codes/api-errors..\n",
      "Retrying langchain.chat_models.openai.ChatOpenAI.completion_with_retry.<locals>._completion_with_retry in 4.0 seconds as it raised RateLimitError: You exceeded your current quota, please check your plan and billing details. For more information on this error, read the docs: https://platform.openai.com/docs/guides/error-codes/api-errors..\n",
      "Retrying langchain.chat_models.openai.ChatOpenAI.completion_with_retry.<locals>._completion_with_retry in 8.0 seconds as it raised RateLimitError: You exceeded your current quota, please check your plan and billing details. For more information on this error, read the docs: https://platform.openai.com/docs/guides/error-codes/api-errors..\n",
      "Retrying langchain.chat_models.openai.ChatOpenAI.completion_with_retry.<locals>._completion_with_retry in 16.0 seconds as it raised RateLimitError: You exceeded your current quota, please check your plan and billing details. For more information on this error, read the docs: https://platform.openai.com/docs/guides/error-codes/api-errors..\n"
     ]
    },
    {
     "ename": "RateLimitError",
     "evalue": "You exceeded your current quota, please check your plan and billing details. For more information on this error, read the docs: https://platform.openai.com/docs/guides/error-codes/api-errors.",
     "output_type": "error",
     "traceback": [
      "\u001b[0;31m---------------------------------------------------------------------------\u001b[0m",
      "\u001b[0;31mRateLimitError\u001b[0m                            Traceback (most recent call last)",
      "Cell \u001b[0;32mIn[14], line 4\u001b[0m\n\u001b[1;32m      1\u001b[0m our_query \u001b[38;5;241m=\u001b[39m \u001b[38;5;124m\"\u001b[39m\u001b[38;5;124mWhat is the currency of Nepal?\u001b[39m\u001b[38;5;124m\"\u001b[39m\n\u001b[1;32m      2\u001b[0m \u001b[38;5;66;03m# completion = llm(our_query)\u001b[39;00m\n\u001b[0;32m----> 4\u001b[0m response \u001b[38;5;241m=\u001b[39m llm([HumanMessage(content\u001b[38;5;241m=\u001b[39mour_query)])\n",
      "File \u001b[0;32m~/opt/anaconda3/lib/python3.13/site-packages/langchain/chat_models/base.py:178\u001b[0m, in \u001b[0;36mBaseChatModel.__call__\u001b[0;34m(self, messages, stop, callbacks)\u001b[0m\n\u001b[1;32m    172\u001b[0m \u001b[38;5;28;01mdef\u001b[39;00m\u001b[38;5;250m \u001b[39m\u001b[38;5;21m__call__\u001b[39m(\n\u001b[1;32m    173\u001b[0m     \u001b[38;5;28mself\u001b[39m,\n\u001b[1;32m    174\u001b[0m     messages: List[BaseMessage],\n\u001b[1;32m    175\u001b[0m     stop: Optional[List[\u001b[38;5;28mstr\u001b[39m]] \u001b[38;5;241m=\u001b[39m \u001b[38;5;28;01mNone\u001b[39;00m,\n\u001b[1;32m    176\u001b[0m     callbacks: Callbacks \u001b[38;5;241m=\u001b[39m \u001b[38;5;28;01mNone\u001b[39;00m,\n\u001b[1;32m    177\u001b[0m ) \u001b[38;5;241m-\u001b[39m\u001b[38;5;241m>\u001b[39m BaseMessage:\n\u001b[0;32m--> 178\u001b[0m     generation \u001b[38;5;241m=\u001b[39m \u001b[38;5;28mself\u001b[39m\u001b[38;5;241m.\u001b[39mgenerate(\n\u001b[1;32m    179\u001b[0m         [messages], stop\u001b[38;5;241m=\u001b[39mstop, callbacks\u001b[38;5;241m=\u001b[39mcallbacks\n\u001b[1;32m    180\u001b[0m     )\u001b[38;5;241m.\u001b[39mgenerations[\u001b[38;5;241m0\u001b[39m][\u001b[38;5;241m0\u001b[39m]\n\u001b[1;32m    181\u001b[0m     \u001b[38;5;28;01mif\u001b[39;00m \u001b[38;5;28misinstance\u001b[39m(generation, ChatGeneration):\n\u001b[1;32m    182\u001b[0m         \u001b[38;5;28;01mreturn\u001b[39;00m generation\u001b[38;5;241m.\u001b[39mmessage\n",
      "File \u001b[0;32m~/opt/anaconda3/lib/python3.13/site-packages/langchain/chat_models/base.py:91\u001b[0m, in \u001b[0;36mBaseChatModel.generate\u001b[0;34m(self, messages, stop, callbacks)\u001b[0m\n\u001b[1;32m     89\u001b[0m \u001b[38;5;28;01mexcept\u001b[39;00m (\u001b[38;5;167;01mKeyboardInterrupt\u001b[39;00m, \u001b[38;5;167;01mException\u001b[39;00m) \u001b[38;5;28;01mas\u001b[39;00m e:\n\u001b[1;32m     90\u001b[0m     run_manager\u001b[38;5;241m.\u001b[39mon_llm_error(e)\n\u001b[0;32m---> 91\u001b[0m     \u001b[38;5;28;01mraise\u001b[39;00m e\n\u001b[1;32m     92\u001b[0m llm_output \u001b[38;5;241m=\u001b[39m \u001b[38;5;28mself\u001b[39m\u001b[38;5;241m.\u001b[39m_combine_llm_outputs([res\u001b[38;5;241m.\u001b[39mllm_output \u001b[38;5;28;01mfor\u001b[39;00m res \u001b[38;5;129;01min\u001b[39;00m results])\n\u001b[1;32m     93\u001b[0m generations \u001b[38;5;241m=\u001b[39m [res\u001b[38;5;241m.\u001b[39mgenerations \u001b[38;5;28;01mfor\u001b[39;00m res \u001b[38;5;129;01min\u001b[39;00m results]\n",
      "File \u001b[0;32m~/opt/anaconda3/lib/python3.13/site-packages/langchain/chat_models/base.py:84\u001b[0m, in \u001b[0;36mBaseChatModel.generate\u001b[0;34m(self, messages, stop, callbacks)\u001b[0m\n\u001b[1;32m     79\u001b[0m new_arg_supported \u001b[38;5;241m=\u001b[39m inspect\u001b[38;5;241m.\u001b[39msignature(\u001b[38;5;28mself\u001b[39m\u001b[38;5;241m.\u001b[39m_generate)\u001b[38;5;241m.\u001b[39mparameters\u001b[38;5;241m.\u001b[39mget(\n\u001b[1;32m     80\u001b[0m     \u001b[38;5;124m\"\u001b[39m\u001b[38;5;124mrun_manager\u001b[39m\u001b[38;5;124m\"\u001b[39m\n\u001b[1;32m     81\u001b[0m )\n\u001b[1;32m     82\u001b[0m \u001b[38;5;28;01mtry\u001b[39;00m:\n\u001b[1;32m     83\u001b[0m     results \u001b[38;5;241m=\u001b[39m [\n\u001b[0;32m---> 84\u001b[0m         \u001b[38;5;28mself\u001b[39m\u001b[38;5;241m.\u001b[39m_generate(m, stop\u001b[38;5;241m=\u001b[39mstop, run_manager\u001b[38;5;241m=\u001b[39mrun_manager)\n\u001b[1;32m     85\u001b[0m         \u001b[38;5;28;01mif\u001b[39;00m new_arg_supported\n\u001b[1;32m     86\u001b[0m         \u001b[38;5;28;01melse\u001b[39;00m \u001b[38;5;28mself\u001b[39m\u001b[38;5;241m.\u001b[39m_generate(m, stop\u001b[38;5;241m=\u001b[39mstop)\n\u001b[1;32m     87\u001b[0m         \u001b[38;5;28;01mfor\u001b[39;00m m \u001b[38;5;129;01min\u001b[39;00m messages\n\u001b[1;32m     88\u001b[0m     ]\n\u001b[1;32m     89\u001b[0m \u001b[38;5;28;01mexcept\u001b[39;00m (\u001b[38;5;167;01mKeyboardInterrupt\u001b[39;00m, \u001b[38;5;167;01mException\u001b[39;00m) \u001b[38;5;28;01mas\u001b[39;00m e:\n\u001b[1;32m     90\u001b[0m     run_manager\u001b[38;5;241m.\u001b[39mon_llm_error(e)\n",
      "File \u001b[0;32m~/opt/anaconda3/lib/python3.13/site-packages/langchain/chat_models/openai.py:330\u001b[0m, in \u001b[0;36mChatOpenAI._generate\u001b[0;34m(self, messages, stop, run_manager)\u001b[0m\n\u001b[1;32m    326\u001b[0m     message \u001b[38;5;241m=\u001b[39m _convert_dict_to_message(\n\u001b[1;32m    327\u001b[0m         {\u001b[38;5;124m\"\u001b[39m\u001b[38;5;124mcontent\u001b[39m\u001b[38;5;124m\"\u001b[39m: inner_completion, \u001b[38;5;124m\"\u001b[39m\u001b[38;5;124mrole\u001b[39m\u001b[38;5;124m\"\u001b[39m: role}\n\u001b[1;32m    328\u001b[0m     )\n\u001b[1;32m    329\u001b[0m     \u001b[38;5;28;01mreturn\u001b[39;00m ChatResult(generations\u001b[38;5;241m=\u001b[39m[ChatGeneration(message\u001b[38;5;241m=\u001b[39mmessage)])\n\u001b[0;32m--> 330\u001b[0m response \u001b[38;5;241m=\u001b[39m \u001b[38;5;28mself\u001b[39m\u001b[38;5;241m.\u001b[39mcompletion_with_retry(messages\u001b[38;5;241m=\u001b[39mmessage_dicts, \u001b[38;5;241m*\u001b[39m\u001b[38;5;241m*\u001b[39mparams)\n\u001b[1;32m    331\u001b[0m \u001b[38;5;28;01mreturn\u001b[39;00m \u001b[38;5;28mself\u001b[39m\u001b[38;5;241m.\u001b[39m_create_chat_result(response)\n",
      "File \u001b[0;32m~/opt/anaconda3/lib/python3.13/site-packages/langchain/chat_models/openai.py:291\u001b[0m, in \u001b[0;36mChatOpenAI.completion_with_retry\u001b[0;34m(self, **kwargs)\u001b[0m\n\u001b[1;32m    287\u001b[0m \u001b[38;5;129m@retry_decorator\u001b[39m\n\u001b[1;32m    288\u001b[0m \u001b[38;5;28;01mdef\u001b[39;00m\u001b[38;5;250m \u001b[39m\u001b[38;5;21m_completion_with_retry\u001b[39m(\u001b[38;5;241m*\u001b[39m\u001b[38;5;241m*\u001b[39mkwargs: Any) \u001b[38;5;241m-\u001b[39m\u001b[38;5;241m>\u001b[39m Any:\n\u001b[1;32m    289\u001b[0m     \u001b[38;5;28;01mreturn\u001b[39;00m \u001b[38;5;28mself\u001b[39m\u001b[38;5;241m.\u001b[39mclient\u001b[38;5;241m.\u001b[39mcreate(\u001b[38;5;241m*\u001b[39m\u001b[38;5;241m*\u001b[39mkwargs)\n\u001b[0;32m--> 291\u001b[0m \u001b[38;5;28;01mreturn\u001b[39;00m _completion_with_retry(\u001b[38;5;241m*\u001b[39m\u001b[38;5;241m*\u001b[39mkwargs)\n",
      "File \u001b[0;32m~/opt/anaconda3/lib/python3.13/site-packages/tenacity/__init__.py:336\u001b[0m, in \u001b[0;36mBaseRetrying.wraps.<locals>.wrapped_f\u001b[0;34m(*args, **kw)\u001b[0m\n\u001b[1;32m    334\u001b[0m copy \u001b[38;5;241m=\u001b[39m \u001b[38;5;28mself\u001b[39m\u001b[38;5;241m.\u001b[39mcopy()\n\u001b[1;32m    335\u001b[0m wrapped_f\u001b[38;5;241m.\u001b[39mstatistics \u001b[38;5;241m=\u001b[39m copy\u001b[38;5;241m.\u001b[39mstatistics  \u001b[38;5;66;03m# type: ignore[attr-defined]\u001b[39;00m\n\u001b[0;32m--> 336\u001b[0m \u001b[38;5;28;01mreturn\u001b[39;00m copy(f, \u001b[38;5;241m*\u001b[39margs, \u001b[38;5;241m*\u001b[39m\u001b[38;5;241m*\u001b[39mkw)\n",
      "File \u001b[0;32m~/opt/anaconda3/lib/python3.13/site-packages/tenacity/__init__.py:475\u001b[0m, in \u001b[0;36mRetrying.__call__\u001b[0;34m(self, fn, *args, **kwargs)\u001b[0m\n\u001b[1;32m    473\u001b[0m retry_state \u001b[38;5;241m=\u001b[39m RetryCallState(retry_object\u001b[38;5;241m=\u001b[39m\u001b[38;5;28mself\u001b[39m, fn\u001b[38;5;241m=\u001b[39mfn, args\u001b[38;5;241m=\u001b[39margs, kwargs\u001b[38;5;241m=\u001b[39mkwargs)\n\u001b[1;32m    474\u001b[0m \u001b[38;5;28;01mwhile\u001b[39;00m \u001b[38;5;28;01mTrue\u001b[39;00m:\n\u001b[0;32m--> 475\u001b[0m     do \u001b[38;5;241m=\u001b[39m \u001b[38;5;28mself\u001b[39m\u001b[38;5;241m.\u001b[39miter(retry_state\u001b[38;5;241m=\u001b[39mretry_state)\n\u001b[1;32m    476\u001b[0m     \u001b[38;5;28;01mif\u001b[39;00m \u001b[38;5;28misinstance\u001b[39m(do, DoAttempt):\n\u001b[1;32m    477\u001b[0m         \u001b[38;5;28;01mtry\u001b[39;00m:\n",
      "File \u001b[0;32m~/opt/anaconda3/lib/python3.13/site-packages/tenacity/__init__.py:376\u001b[0m, in \u001b[0;36mBaseRetrying.iter\u001b[0;34m(self, retry_state)\u001b[0m\n\u001b[1;32m    374\u001b[0m result \u001b[38;5;241m=\u001b[39m \u001b[38;5;28;01mNone\u001b[39;00m\n\u001b[1;32m    375\u001b[0m \u001b[38;5;28;01mfor\u001b[39;00m action \u001b[38;5;129;01min\u001b[39;00m \u001b[38;5;28mself\u001b[39m\u001b[38;5;241m.\u001b[39miter_state\u001b[38;5;241m.\u001b[39mactions:\n\u001b[0;32m--> 376\u001b[0m     result \u001b[38;5;241m=\u001b[39m action(retry_state)\n\u001b[1;32m    377\u001b[0m \u001b[38;5;28;01mreturn\u001b[39;00m result\n",
      "File \u001b[0;32m~/opt/anaconda3/lib/python3.13/site-packages/tenacity/__init__.py:418\u001b[0m, in \u001b[0;36mBaseRetrying._post_stop_check_actions.<locals>.exc_check\u001b[0;34m(rs)\u001b[0m\n\u001b[1;32m    416\u001b[0m retry_exc \u001b[38;5;241m=\u001b[39m \u001b[38;5;28mself\u001b[39m\u001b[38;5;241m.\u001b[39mretry_error_cls(fut)\n\u001b[1;32m    417\u001b[0m \u001b[38;5;28;01mif\u001b[39;00m \u001b[38;5;28mself\u001b[39m\u001b[38;5;241m.\u001b[39mreraise:\n\u001b[0;32m--> 418\u001b[0m     \u001b[38;5;28;01mraise\u001b[39;00m retry_exc\u001b[38;5;241m.\u001b[39mreraise()\n\u001b[1;32m    419\u001b[0m \u001b[38;5;28;01mraise\u001b[39;00m retry_exc \u001b[38;5;28;01mfrom\u001b[39;00m\u001b[38;5;250m \u001b[39m\u001b[38;5;21;01mfut\u001b[39;00m\u001b[38;5;21;01m.\u001b[39;00m\u001b[38;5;21;01mexception\u001b[39;00m()\n",
      "File \u001b[0;32m~/opt/anaconda3/lib/python3.13/site-packages/tenacity/__init__.py:185\u001b[0m, in \u001b[0;36mRetryError.reraise\u001b[0;34m(self)\u001b[0m\n\u001b[1;32m    183\u001b[0m \u001b[38;5;28;01mdef\u001b[39;00m\u001b[38;5;250m \u001b[39m\u001b[38;5;21mreraise\u001b[39m(\u001b[38;5;28mself\u001b[39m) \u001b[38;5;241m-\u001b[39m\u001b[38;5;241m>\u001b[39m t\u001b[38;5;241m.\u001b[39mNoReturn:\n\u001b[1;32m    184\u001b[0m     \u001b[38;5;28;01mif\u001b[39;00m \u001b[38;5;28mself\u001b[39m\u001b[38;5;241m.\u001b[39mlast_attempt\u001b[38;5;241m.\u001b[39mfailed:\n\u001b[0;32m--> 185\u001b[0m         \u001b[38;5;28;01mraise\u001b[39;00m \u001b[38;5;28mself\u001b[39m\u001b[38;5;241m.\u001b[39mlast_attempt\u001b[38;5;241m.\u001b[39mresult()\n\u001b[1;32m    186\u001b[0m     \u001b[38;5;28;01mraise\u001b[39;00m \u001b[38;5;28mself\u001b[39m\n",
      "File \u001b[0;32m~/opt/anaconda3/lib/python3.13/concurrent/futures/_base.py:449\u001b[0m, in \u001b[0;36mFuture.result\u001b[0;34m(self, timeout)\u001b[0m\n\u001b[1;32m    447\u001b[0m     \u001b[38;5;28;01mraise\u001b[39;00m CancelledError()\n\u001b[1;32m    448\u001b[0m \u001b[38;5;28;01melif\u001b[39;00m \u001b[38;5;28mself\u001b[39m\u001b[38;5;241m.\u001b[39m_state \u001b[38;5;241m==\u001b[39m FINISHED:\n\u001b[0;32m--> 449\u001b[0m     \u001b[38;5;28;01mreturn\u001b[39;00m \u001b[38;5;28mself\u001b[39m\u001b[38;5;241m.\u001b[39m__get_result()\n\u001b[1;32m    451\u001b[0m \u001b[38;5;28mself\u001b[39m\u001b[38;5;241m.\u001b[39m_condition\u001b[38;5;241m.\u001b[39mwait(timeout)\n\u001b[1;32m    453\u001b[0m \u001b[38;5;28;01mif\u001b[39;00m \u001b[38;5;28mself\u001b[39m\u001b[38;5;241m.\u001b[39m_state \u001b[38;5;129;01min\u001b[39;00m [CANCELLED, CANCELLED_AND_NOTIFIED]:\n",
      "File \u001b[0;32m~/opt/anaconda3/lib/python3.13/concurrent/futures/_base.py:401\u001b[0m, in \u001b[0;36mFuture.__get_result\u001b[0;34m(self)\u001b[0m\n\u001b[1;32m    399\u001b[0m \u001b[38;5;28;01mif\u001b[39;00m \u001b[38;5;28mself\u001b[39m\u001b[38;5;241m.\u001b[39m_exception \u001b[38;5;129;01mis\u001b[39;00m \u001b[38;5;129;01mnot\u001b[39;00m \u001b[38;5;28;01mNone\u001b[39;00m:\n\u001b[1;32m    400\u001b[0m     \u001b[38;5;28;01mtry\u001b[39;00m:\n\u001b[0;32m--> 401\u001b[0m         \u001b[38;5;28;01mraise\u001b[39;00m \u001b[38;5;28mself\u001b[39m\u001b[38;5;241m.\u001b[39m_exception\n\u001b[1;32m    402\u001b[0m     \u001b[38;5;28;01mfinally\u001b[39;00m:\n\u001b[1;32m    403\u001b[0m         \u001b[38;5;66;03m# Break a reference cycle with the exception in self._exception\u001b[39;00m\n\u001b[1;32m    404\u001b[0m         \u001b[38;5;28mself\u001b[39m \u001b[38;5;241m=\u001b[39m \u001b[38;5;28;01mNone\u001b[39;00m\n",
      "File \u001b[0;32m~/opt/anaconda3/lib/python3.13/site-packages/tenacity/__init__.py:478\u001b[0m, in \u001b[0;36mRetrying.__call__\u001b[0;34m(self, fn, *args, **kwargs)\u001b[0m\n\u001b[1;32m    476\u001b[0m \u001b[38;5;28;01mif\u001b[39;00m \u001b[38;5;28misinstance\u001b[39m(do, DoAttempt):\n\u001b[1;32m    477\u001b[0m     \u001b[38;5;28;01mtry\u001b[39;00m:\n\u001b[0;32m--> 478\u001b[0m         result \u001b[38;5;241m=\u001b[39m fn(\u001b[38;5;241m*\u001b[39margs, \u001b[38;5;241m*\u001b[39m\u001b[38;5;241m*\u001b[39mkwargs)\n\u001b[1;32m    479\u001b[0m     \u001b[38;5;28;01mexcept\u001b[39;00m \u001b[38;5;167;01mBaseException\u001b[39;00m:  \u001b[38;5;66;03m# noqa: B902\u001b[39;00m\n\u001b[1;32m    480\u001b[0m         retry_state\u001b[38;5;241m.\u001b[39mset_exception(sys\u001b[38;5;241m.\u001b[39mexc_info())  \u001b[38;5;66;03m# type: ignore[arg-type]\u001b[39;00m\n",
      "File \u001b[0;32m~/opt/anaconda3/lib/python3.13/site-packages/langchain/chat_models/openai.py:289\u001b[0m, in \u001b[0;36mChatOpenAI.completion_with_retry.<locals>._completion_with_retry\u001b[0;34m(**kwargs)\u001b[0m\n\u001b[1;32m    287\u001b[0m \u001b[38;5;129m@retry_decorator\u001b[39m\n\u001b[1;32m    288\u001b[0m \u001b[38;5;28;01mdef\u001b[39;00m\u001b[38;5;250m \u001b[39m\u001b[38;5;21m_completion_with_retry\u001b[39m(\u001b[38;5;241m*\u001b[39m\u001b[38;5;241m*\u001b[39mkwargs: Any) \u001b[38;5;241m-\u001b[39m\u001b[38;5;241m>\u001b[39m Any:\n\u001b[0;32m--> 289\u001b[0m     \u001b[38;5;28;01mreturn\u001b[39;00m \u001b[38;5;28mself\u001b[39m\u001b[38;5;241m.\u001b[39mclient\u001b[38;5;241m.\u001b[39mcreate(\u001b[38;5;241m*\u001b[39m\u001b[38;5;241m*\u001b[39mkwargs)\n",
      "File \u001b[0;32m~/opt/anaconda3/lib/python3.13/site-packages/openai/api_resources/chat_completion.py:25\u001b[0m, in \u001b[0;36mChatCompletion.create\u001b[0;34m(cls, *args, **kwargs)\u001b[0m\n\u001b[1;32m     23\u001b[0m \u001b[38;5;28;01mwhile\u001b[39;00m \u001b[38;5;28;01mTrue\u001b[39;00m:\n\u001b[1;32m     24\u001b[0m     \u001b[38;5;28;01mtry\u001b[39;00m:\n\u001b[0;32m---> 25\u001b[0m         \u001b[38;5;28;01mreturn\u001b[39;00m \u001b[38;5;28msuper\u001b[39m()\u001b[38;5;241m.\u001b[39mcreate(\u001b[38;5;241m*\u001b[39margs, \u001b[38;5;241m*\u001b[39m\u001b[38;5;241m*\u001b[39mkwargs)\n\u001b[1;32m     26\u001b[0m     \u001b[38;5;28;01mexcept\u001b[39;00m TryAgain \u001b[38;5;28;01mas\u001b[39;00m e:\n\u001b[1;32m     27\u001b[0m         \u001b[38;5;28;01mif\u001b[39;00m timeout \u001b[38;5;129;01mis\u001b[39;00m \u001b[38;5;129;01mnot\u001b[39;00m \u001b[38;5;28;01mNone\u001b[39;00m \u001b[38;5;129;01mand\u001b[39;00m time\u001b[38;5;241m.\u001b[39mtime() \u001b[38;5;241m>\u001b[39m start \u001b[38;5;241m+\u001b[39m timeout:\n",
      "File \u001b[0;32m~/opt/anaconda3/lib/python3.13/site-packages/openai/api_resources/abstract/engine_api_resource.py:153\u001b[0m, in \u001b[0;36mEngineAPIResource.create\u001b[0;34m(cls, api_key, api_base, api_type, request_id, api_version, organization, **params)\u001b[0m\n\u001b[1;32m    127\u001b[0m \u001b[38;5;129m@classmethod\u001b[39m\n\u001b[1;32m    128\u001b[0m \u001b[38;5;28;01mdef\u001b[39;00m\u001b[38;5;250m \u001b[39m\u001b[38;5;21mcreate\u001b[39m(\n\u001b[1;32m    129\u001b[0m     \u001b[38;5;28mcls\u001b[39m,\n\u001b[0;32m   (...)\u001b[0m\n\u001b[1;32m    136\u001b[0m     \u001b[38;5;241m*\u001b[39m\u001b[38;5;241m*\u001b[39mparams,\n\u001b[1;32m    137\u001b[0m ):\n\u001b[1;32m    138\u001b[0m     (\n\u001b[1;32m    139\u001b[0m         deployment_id,\n\u001b[1;32m    140\u001b[0m         engine,\n\u001b[0;32m   (...)\u001b[0m\n\u001b[1;32m    150\u001b[0m         api_key, api_base, api_type, api_version, organization, \u001b[38;5;241m*\u001b[39m\u001b[38;5;241m*\u001b[39mparams\n\u001b[1;32m    151\u001b[0m     )\n\u001b[0;32m--> 153\u001b[0m     response, _, api_key \u001b[38;5;241m=\u001b[39m requestor\u001b[38;5;241m.\u001b[39mrequest(\n\u001b[1;32m    154\u001b[0m         \u001b[38;5;124m\"\u001b[39m\u001b[38;5;124mpost\u001b[39m\u001b[38;5;124m\"\u001b[39m,\n\u001b[1;32m    155\u001b[0m         url,\n\u001b[1;32m    156\u001b[0m         params\u001b[38;5;241m=\u001b[39mparams,\n\u001b[1;32m    157\u001b[0m         headers\u001b[38;5;241m=\u001b[39mheaders,\n\u001b[1;32m    158\u001b[0m         stream\u001b[38;5;241m=\u001b[39mstream,\n\u001b[1;32m    159\u001b[0m         request_id\u001b[38;5;241m=\u001b[39mrequest_id,\n\u001b[1;32m    160\u001b[0m         request_timeout\u001b[38;5;241m=\u001b[39mrequest_timeout,\n\u001b[1;32m    161\u001b[0m     )\n\u001b[1;32m    163\u001b[0m     \u001b[38;5;28;01mif\u001b[39;00m stream:\n\u001b[1;32m    164\u001b[0m         \u001b[38;5;66;03m# must be an iterator\u001b[39;00m\n\u001b[1;32m    165\u001b[0m         \u001b[38;5;28;01massert\u001b[39;00m \u001b[38;5;129;01mnot\u001b[39;00m \u001b[38;5;28misinstance\u001b[39m(response, OpenAIResponse)\n",
      "File \u001b[0;32m~/opt/anaconda3/lib/python3.13/site-packages/openai/api_requestor.py:230\u001b[0m, in \u001b[0;36mAPIRequestor.request\u001b[0;34m(self, method, url, params, headers, files, stream, request_id, request_timeout)\u001b[0m\n\u001b[1;32m    209\u001b[0m \u001b[38;5;28;01mdef\u001b[39;00m\u001b[38;5;250m \u001b[39m\u001b[38;5;21mrequest\u001b[39m(\n\u001b[1;32m    210\u001b[0m     \u001b[38;5;28mself\u001b[39m,\n\u001b[1;32m    211\u001b[0m     method,\n\u001b[0;32m   (...)\u001b[0m\n\u001b[1;32m    218\u001b[0m     request_timeout: Optional[Union[\u001b[38;5;28mfloat\u001b[39m, Tuple[\u001b[38;5;28mfloat\u001b[39m, \u001b[38;5;28mfloat\u001b[39m]]] \u001b[38;5;241m=\u001b[39m \u001b[38;5;28;01mNone\u001b[39;00m,\n\u001b[1;32m    219\u001b[0m ) \u001b[38;5;241m-\u001b[39m\u001b[38;5;241m>\u001b[39m Tuple[Union[OpenAIResponse, Iterator[OpenAIResponse]], \u001b[38;5;28mbool\u001b[39m, \u001b[38;5;28mstr\u001b[39m]:\n\u001b[1;32m    220\u001b[0m     result \u001b[38;5;241m=\u001b[39m \u001b[38;5;28mself\u001b[39m\u001b[38;5;241m.\u001b[39mrequest_raw(\n\u001b[1;32m    221\u001b[0m         method\u001b[38;5;241m.\u001b[39mlower(),\n\u001b[1;32m    222\u001b[0m         url,\n\u001b[0;32m   (...)\u001b[0m\n\u001b[1;32m    228\u001b[0m         request_timeout\u001b[38;5;241m=\u001b[39mrequest_timeout,\n\u001b[1;32m    229\u001b[0m     )\n\u001b[0;32m--> 230\u001b[0m     resp, got_stream \u001b[38;5;241m=\u001b[39m \u001b[38;5;28mself\u001b[39m\u001b[38;5;241m.\u001b[39m_interpret_response(result, stream)\n\u001b[1;32m    231\u001b[0m     \u001b[38;5;28;01mreturn\u001b[39;00m resp, got_stream, \u001b[38;5;28mself\u001b[39m\u001b[38;5;241m.\u001b[39mapi_key\n",
      "File \u001b[0;32m~/opt/anaconda3/lib/python3.13/site-packages/openai/api_requestor.py:624\u001b[0m, in \u001b[0;36mAPIRequestor._interpret_response\u001b[0;34m(self, result, stream)\u001b[0m\n\u001b[1;32m    616\u001b[0m     \u001b[38;5;28;01mreturn\u001b[39;00m (\n\u001b[1;32m    617\u001b[0m         \u001b[38;5;28mself\u001b[39m\u001b[38;5;241m.\u001b[39m_interpret_response_line(\n\u001b[1;32m    618\u001b[0m             line, result\u001b[38;5;241m.\u001b[39mstatus_code, result\u001b[38;5;241m.\u001b[39mheaders, stream\u001b[38;5;241m=\u001b[39m\u001b[38;5;28;01mTrue\u001b[39;00m\n\u001b[1;32m    619\u001b[0m         )\n\u001b[1;32m    620\u001b[0m         \u001b[38;5;28;01mfor\u001b[39;00m line \u001b[38;5;129;01min\u001b[39;00m parse_stream(result\u001b[38;5;241m.\u001b[39miter_lines())\n\u001b[1;32m    621\u001b[0m     ), \u001b[38;5;28;01mTrue\u001b[39;00m\n\u001b[1;32m    622\u001b[0m \u001b[38;5;28;01melse\u001b[39;00m:\n\u001b[1;32m    623\u001b[0m     \u001b[38;5;28;01mreturn\u001b[39;00m (\n\u001b[0;32m--> 624\u001b[0m         \u001b[38;5;28mself\u001b[39m\u001b[38;5;241m.\u001b[39m_interpret_response_line(\n\u001b[1;32m    625\u001b[0m             result\u001b[38;5;241m.\u001b[39mcontent\u001b[38;5;241m.\u001b[39mdecode(\u001b[38;5;124m\"\u001b[39m\u001b[38;5;124mutf-8\u001b[39m\u001b[38;5;124m\"\u001b[39m),\n\u001b[1;32m    626\u001b[0m             result\u001b[38;5;241m.\u001b[39mstatus_code,\n\u001b[1;32m    627\u001b[0m             result\u001b[38;5;241m.\u001b[39mheaders,\n\u001b[1;32m    628\u001b[0m             stream\u001b[38;5;241m=\u001b[39m\u001b[38;5;28;01mFalse\u001b[39;00m,\n\u001b[1;32m    629\u001b[0m         ),\n\u001b[1;32m    630\u001b[0m         \u001b[38;5;28;01mFalse\u001b[39;00m,\n\u001b[1;32m    631\u001b[0m     )\n",
      "File \u001b[0;32m~/opt/anaconda3/lib/python3.13/site-packages/openai/api_requestor.py:687\u001b[0m, in \u001b[0;36mAPIRequestor._interpret_response_line\u001b[0;34m(self, rbody, rcode, rheaders, stream)\u001b[0m\n\u001b[1;32m    685\u001b[0m stream_error \u001b[38;5;241m=\u001b[39m stream \u001b[38;5;129;01mand\u001b[39;00m \u001b[38;5;124m\"\u001b[39m\u001b[38;5;124merror\u001b[39m\u001b[38;5;124m\"\u001b[39m \u001b[38;5;129;01min\u001b[39;00m resp\u001b[38;5;241m.\u001b[39mdata\n\u001b[1;32m    686\u001b[0m \u001b[38;5;28;01mif\u001b[39;00m stream_error \u001b[38;5;129;01mor\u001b[39;00m \u001b[38;5;129;01mnot\u001b[39;00m \u001b[38;5;241m200\u001b[39m \u001b[38;5;241m<\u001b[39m\u001b[38;5;241m=\u001b[39m rcode \u001b[38;5;241m<\u001b[39m \u001b[38;5;241m300\u001b[39m:\n\u001b[0;32m--> 687\u001b[0m     \u001b[38;5;28;01mraise\u001b[39;00m \u001b[38;5;28mself\u001b[39m\u001b[38;5;241m.\u001b[39mhandle_error_response(\n\u001b[1;32m    688\u001b[0m         rbody, rcode, resp\u001b[38;5;241m.\u001b[39mdata, rheaders, stream_error\u001b[38;5;241m=\u001b[39mstream_error\n\u001b[1;32m    689\u001b[0m     )\n\u001b[1;32m    690\u001b[0m \u001b[38;5;28;01mreturn\u001b[39;00m resp\n",
      "\u001b[0;31mRateLimitError\u001b[0m: You exceeded your current quota, please check your plan and billing details. For more information on this error, read the docs: https://platform.openai.com/docs/guides/error-codes/api-errors."
     ]
    }
   ],
   "source": [
    "our_query = \"What is the currency of Nepal?\"\n",
    "# completion = llm(our_query)\n",
    "\n",
    "response = llm([HumanMessage(content=our_query)])"
   ]
  },
  {
   "cell_type": "code",
   "execution_count": 1,
   "id": "298d9dc8-4aa4-47fe-a951-32dd95aac505",
   "metadata": {},
   "outputs": [
    {
     "name": "stdout",
     "output_type": "stream",
     "text": [
      "Requirement already satisfied: numpy in /Users/abbukhadka/opt/anaconda3/lib/python3.13/site-packages (2.3.1)\n"
     ]
    }
   ],
   "source": [
    "!pip install numpy"
   ]
  },
  {
   "cell_type": "code",
   "execution_count": 2,
   "id": "6a4873b9-37bb-47f2-a01e-724aa924e5fe",
   "metadata": {},
   "outputs": [
    {
     "name": "stdout",
     "output_type": "stream",
     "text": [
      "Requirement already satisfied: langchain in /Users/abbukhadka/opt/anaconda3/lib/python3.13/site-packages (0.3.26)\n",
      "Requirement already satisfied: langchain-core<1.0.0,>=0.3.66 in /Users/abbukhadka/opt/anaconda3/lib/python3.13/site-packages (from langchain) (0.3.67)\n",
      "Requirement already satisfied: langchain-text-splitters<1.0.0,>=0.3.8 in /Users/abbukhadka/opt/anaconda3/lib/python3.13/site-packages (from langchain) (0.3.8)\n",
      "Requirement already satisfied: langsmith>=0.1.17 in /Users/abbukhadka/opt/anaconda3/lib/python3.13/site-packages (from langchain) (0.4.4)\n",
      "Requirement already satisfied: pydantic<3.0.0,>=2.7.4 in /Users/abbukhadka/opt/anaconda3/lib/python3.13/site-packages (from langchain) (2.11.7)\n",
      "Requirement already satisfied: SQLAlchemy<3,>=1.4 in /Users/abbukhadka/opt/anaconda3/lib/python3.13/site-packages (from langchain) (2.0.39)\n",
      "Requirement already satisfied: requests<3,>=2 in /Users/abbukhadka/opt/anaconda3/lib/python3.13/site-packages (from langchain) (2.32.3)\n",
      "Requirement already satisfied: PyYAML>=5.3 in /Users/abbukhadka/opt/anaconda3/lib/python3.13/site-packages (from langchain) (6.0.2)\n",
      "Requirement already satisfied: tenacity!=8.4.0,<10.0.0,>=8.1.0 in /Users/abbukhadka/opt/anaconda3/lib/python3.13/site-packages (from langchain-core<1.0.0,>=0.3.66->langchain) (8.5.0)\n",
      "Requirement already satisfied: jsonpatch<2.0,>=1.33 in /Users/abbukhadka/opt/anaconda3/lib/python3.13/site-packages (from langchain-core<1.0.0,>=0.3.66->langchain) (1.33)\n",
      "Requirement already satisfied: packaging<25,>=23.2 in /Users/abbukhadka/opt/anaconda3/lib/python3.13/site-packages (from langchain-core<1.0.0,>=0.3.66->langchain) (24.2)\n",
      "Requirement already satisfied: typing-extensions>=4.7 in /Users/abbukhadka/opt/anaconda3/lib/python3.13/site-packages (from langchain-core<1.0.0,>=0.3.66->langchain) (4.12.2)\n",
      "Requirement already satisfied: jsonpointer>=1.9 in /Users/abbukhadka/opt/anaconda3/lib/python3.13/site-packages (from jsonpatch<2.0,>=1.33->langchain-core<1.0.0,>=0.3.66->langchain) (2.1)\n",
      "Requirement already satisfied: annotated-types>=0.6.0 in /Users/abbukhadka/opt/anaconda3/lib/python3.13/site-packages (from pydantic<3.0.0,>=2.7.4->langchain) (0.6.0)\n",
      "Requirement already satisfied: pydantic-core==2.33.2 in /Users/abbukhadka/opt/anaconda3/lib/python3.13/site-packages (from pydantic<3.0.0,>=2.7.4->langchain) (2.33.2)\n",
      "Requirement already satisfied: typing-inspection>=0.4.0 in /Users/abbukhadka/opt/anaconda3/lib/python3.13/site-packages (from pydantic<3.0.0,>=2.7.4->langchain) (0.4.1)\n",
      "Requirement already satisfied: charset-normalizer<4,>=2 in /Users/abbukhadka/opt/anaconda3/lib/python3.13/site-packages (from requests<3,>=2->langchain) (3.3.2)\n",
      "Requirement already satisfied: idna<4,>=2.5 in /Users/abbukhadka/opt/anaconda3/lib/python3.13/site-packages (from requests<3,>=2->langchain) (3.7)\n",
      "Requirement already satisfied: urllib3<3,>=1.21.1 in /Users/abbukhadka/opt/anaconda3/lib/python3.13/site-packages (from requests<3,>=2->langchain) (2.3.0)\n",
      "Requirement already satisfied: certifi>=2017.4.17 in /Users/abbukhadka/opt/anaconda3/lib/python3.13/site-packages (from requests<3,>=2->langchain) (2025.6.15)\n",
      "Requirement already satisfied: httpx<1,>=0.23.0 in /Users/abbukhadka/opt/anaconda3/lib/python3.13/site-packages (from langsmith>=0.1.17->langchain) (0.28.1)\n",
      "Requirement already satisfied: orjson<4.0.0,>=3.9.14 in /Users/abbukhadka/opt/anaconda3/lib/python3.13/site-packages (from langsmith>=0.1.17->langchain) (3.10.18)\n",
      "Requirement already satisfied: requests-toolbelt<2.0.0,>=1.0.0 in /Users/abbukhadka/opt/anaconda3/lib/python3.13/site-packages (from langsmith>=0.1.17->langchain) (1.0.0)\n",
      "Requirement already satisfied: zstandard<0.24.0,>=0.23.0 in /Users/abbukhadka/opt/anaconda3/lib/python3.13/site-packages (from langsmith>=0.1.17->langchain) (0.23.0)\n",
      "Requirement already satisfied: anyio in /Users/abbukhadka/opt/anaconda3/lib/python3.13/site-packages (from httpx<1,>=0.23.0->langsmith>=0.1.17->langchain) (4.7.0)\n",
      "Requirement already satisfied: httpcore==1.* in /Users/abbukhadka/opt/anaconda3/lib/python3.13/site-packages (from httpx<1,>=0.23.0->langsmith>=0.1.17->langchain) (1.0.9)\n",
      "Requirement already satisfied: h11>=0.16 in /Users/abbukhadka/opt/anaconda3/lib/python3.13/site-packages (from httpcore==1.*->httpx<1,>=0.23.0->langsmith>=0.1.17->langchain) (0.16.0)\n",
      "Requirement already satisfied: sniffio>=1.1 in /Users/abbukhadka/opt/anaconda3/lib/python3.13/site-packages (from anyio->httpx<1,>=0.23.0->langsmith>=0.1.17->langchain) (1.3.0)\n"
     ]
    }
   ],
   "source": [
    "!pip install langchain"
   ]
  },
  {
   "cell_type": "code",
   "execution_count": null,
   "id": "bdac76c0-116d-4710-afbc-2a914f8c7ccc",
   "metadata": {},
   "outputs": [],
   "source": []
  },
  {
   "cell_type": "code",
   "execution_count": 3,
   "id": "254a4ada-470c-44f6-ab43-2cbaa66d6e04",
   "metadata": {},
   "outputs": [
    {
     "name": "stdout",
     "output_type": "stream",
     "text": [
      "Requirement already satisfied: langchain-google-genai in /Users/abbukhadka/opt/anaconda3/lib/python3.13/site-packages (2.1.6)\n",
      "Requirement already satisfied: filetype<2.0.0,>=1.2.0 in /Users/abbukhadka/opt/anaconda3/lib/python3.13/site-packages (from langchain-google-genai) (1.2.0)\n",
      "Requirement already satisfied: google-ai-generativelanguage<0.7.0,>=0.6.18 in /Users/abbukhadka/opt/anaconda3/lib/python3.13/site-packages (from langchain-google-genai) (0.6.18)\n",
      "Requirement already satisfied: langchain-core<0.4.0,>=0.3.66 in /Users/abbukhadka/opt/anaconda3/lib/python3.13/site-packages (from langchain-google-genai) (0.3.67)\n",
      "Requirement already satisfied: pydantic<3,>=2 in /Users/abbukhadka/opt/anaconda3/lib/python3.13/site-packages (from langchain-google-genai) (2.11.7)\n",
      "Requirement already satisfied: google-api-core!=2.0.*,!=2.1.*,!=2.10.*,!=2.2.*,!=2.3.*,!=2.4.*,!=2.5.*,!=2.6.*,!=2.7.*,!=2.8.*,!=2.9.*,<3.0.0,>=1.34.1 in /Users/abbukhadka/opt/anaconda3/lib/python3.13/site-packages (from google-api-core[grpc]!=2.0.*,!=2.1.*,!=2.10.*,!=2.2.*,!=2.3.*,!=2.4.*,!=2.5.*,!=2.6.*,!=2.7.*,!=2.8.*,!=2.9.*,<3.0.0,>=1.34.1->google-ai-generativelanguage<0.7.0,>=0.6.18->langchain-google-genai) (2.25.1)\n",
      "Requirement already satisfied: google-auth!=2.24.0,!=2.25.0,<3.0.0,>=2.14.1 in /Users/abbukhadka/opt/anaconda3/lib/python3.13/site-packages (from google-ai-generativelanguage<0.7.0,>=0.6.18->langchain-google-genai) (2.40.3)\n",
      "Requirement already satisfied: proto-plus<2.0.0,>=1.22.3 in /Users/abbukhadka/opt/anaconda3/lib/python3.13/site-packages (from google-ai-generativelanguage<0.7.0,>=0.6.18->langchain-google-genai) (1.26.1)\n",
      "Requirement already satisfied: protobuf!=4.21.0,!=4.21.1,!=4.21.2,!=4.21.3,!=4.21.4,!=4.21.5,<7.0.0,>=3.20.2 in /Users/abbukhadka/opt/anaconda3/lib/python3.13/site-packages (from google-ai-generativelanguage<0.7.0,>=0.6.18->langchain-google-genai) (6.31.1)\n",
      "Requirement already satisfied: googleapis-common-protos<2.0.0,>=1.56.2 in /Users/abbukhadka/opt/anaconda3/lib/python3.13/site-packages (from google-api-core!=2.0.*,!=2.1.*,!=2.10.*,!=2.2.*,!=2.3.*,!=2.4.*,!=2.5.*,!=2.6.*,!=2.7.*,!=2.8.*,!=2.9.*,<3.0.0,>=1.34.1->google-api-core[grpc]!=2.0.*,!=2.1.*,!=2.10.*,!=2.2.*,!=2.3.*,!=2.4.*,!=2.5.*,!=2.6.*,!=2.7.*,!=2.8.*,!=2.9.*,<3.0.0,>=1.34.1->google-ai-generativelanguage<0.7.0,>=0.6.18->langchain-google-genai) (1.70.0)\n",
      "Requirement already satisfied: requests<3.0.0,>=2.18.0 in /Users/abbukhadka/opt/anaconda3/lib/python3.13/site-packages (from google-api-core!=2.0.*,!=2.1.*,!=2.10.*,!=2.2.*,!=2.3.*,!=2.4.*,!=2.5.*,!=2.6.*,!=2.7.*,!=2.8.*,!=2.9.*,<3.0.0,>=1.34.1->google-api-core[grpc]!=2.0.*,!=2.1.*,!=2.10.*,!=2.2.*,!=2.3.*,!=2.4.*,!=2.5.*,!=2.6.*,!=2.7.*,!=2.8.*,!=2.9.*,<3.0.0,>=1.34.1->google-ai-generativelanguage<0.7.0,>=0.6.18->langchain-google-genai) (2.32.3)\n",
      "Requirement already satisfied: grpcio<2.0.0,>=1.33.2 in /Users/abbukhadka/opt/anaconda3/lib/python3.13/site-packages (from google-api-core[grpc]!=2.0.*,!=2.1.*,!=2.10.*,!=2.2.*,!=2.3.*,!=2.4.*,!=2.5.*,!=2.6.*,!=2.7.*,!=2.8.*,!=2.9.*,<3.0.0,>=1.34.1->google-ai-generativelanguage<0.7.0,>=0.6.18->langchain-google-genai) (1.73.1)\n",
      "Requirement already satisfied: grpcio-status<2.0.0,>=1.33.2 in /Users/abbukhadka/opt/anaconda3/lib/python3.13/site-packages (from google-api-core[grpc]!=2.0.*,!=2.1.*,!=2.10.*,!=2.2.*,!=2.3.*,!=2.4.*,!=2.5.*,!=2.6.*,!=2.7.*,!=2.8.*,!=2.9.*,<3.0.0,>=1.34.1->google-ai-generativelanguage<0.7.0,>=0.6.18->langchain-google-genai) (1.73.1)\n",
      "Requirement already satisfied: cachetools<6.0,>=2.0.0 in /Users/abbukhadka/opt/anaconda3/lib/python3.13/site-packages (from google-auth!=2.24.0,!=2.25.0,<3.0.0,>=2.14.1->google-ai-generativelanguage<0.7.0,>=0.6.18->langchain-google-genai) (5.5.1)\n",
      "Requirement already satisfied: pyasn1-modules>=0.2.1 in /Users/abbukhadka/opt/anaconda3/lib/python3.13/site-packages (from google-auth!=2.24.0,!=2.25.0,<3.0.0,>=2.14.1->google-ai-generativelanguage<0.7.0,>=0.6.18->langchain-google-genai) (0.2.8)\n",
      "Requirement already satisfied: rsa<5,>=3.1.4 in /Users/abbukhadka/opt/anaconda3/lib/python3.13/site-packages (from google-auth!=2.24.0,!=2.25.0,<3.0.0,>=2.14.1->google-ai-generativelanguage<0.7.0,>=0.6.18->langchain-google-genai) (4.9.1)\n",
      "Requirement already satisfied: langsmith>=0.3.45 in /Users/abbukhadka/opt/anaconda3/lib/python3.13/site-packages (from langchain-core<0.4.0,>=0.3.66->langchain-google-genai) (0.4.4)\n",
      "Requirement already satisfied: tenacity!=8.4.0,<10.0.0,>=8.1.0 in /Users/abbukhadka/opt/anaconda3/lib/python3.13/site-packages (from langchain-core<0.4.0,>=0.3.66->langchain-google-genai) (8.5.0)\n",
      "Requirement already satisfied: jsonpatch<2.0,>=1.33 in /Users/abbukhadka/opt/anaconda3/lib/python3.13/site-packages (from langchain-core<0.4.0,>=0.3.66->langchain-google-genai) (1.33)\n",
      "Requirement already satisfied: PyYAML>=5.3 in /Users/abbukhadka/opt/anaconda3/lib/python3.13/site-packages (from langchain-core<0.4.0,>=0.3.66->langchain-google-genai) (6.0.2)\n",
      "Requirement already satisfied: packaging<25,>=23.2 in /Users/abbukhadka/opt/anaconda3/lib/python3.13/site-packages (from langchain-core<0.4.0,>=0.3.66->langchain-google-genai) (24.2)\n",
      "Requirement already satisfied: typing-extensions>=4.7 in /Users/abbukhadka/opt/anaconda3/lib/python3.13/site-packages (from langchain-core<0.4.0,>=0.3.66->langchain-google-genai) (4.12.2)\n",
      "Requirement already satisfied: jsonpointer>=1.9 in /Users/abbukhadka/opt/anaconda3/lib/python3.13/site-packages (from jsonpatch<2.0,>=1.33->langchain-core<0.4.0,>=0.3.66->langchain-google-genai) (2.1)\n",
      "Requirement already satisfied: annotated-types>=0.6.0 in /Users/abbukhadka/opt/anaconda3/lib/python3.13/site-packages (from pydantic<3,>=2->langchain-google-genai) (0.6.0)\n",
      "Requirement already satisfied: pydantic-core==2.33.2 in /Users/abbukhadka/opt/anaconda3/lib/python3.13/site-packages (from pydantic<3,>=2->langchain-google-genai) (2.33.2)\n",
      "Requirement already satisfied: typing-inspection>=0.4.0 in /Users/abbukhadka/opt/anaconda3/lib/python3.13/site-packages (from pydantic<3,>=2->langchain-google-genai) (0.4.1)\n",
      "Requirement already satisfied: charset-normalizer<4,>=2 in /Users/abbukhadka/opt/anaconda3/lib/python3.13/site-packages (from requests<3.0.0,>=2.18.0->google-api-core!=2.0.*,!=2.1.*,!=2.10.*,!=2.2.*,!=2.3.*,!=2.4.*,!=2.5.*,!=2.6.*,!=2.7.*,!=2.8.*,!=2.9.*,<3.0.0,>=1.34.1->google-api-core[grpc]!=2.0.*,!=2.1.*,!=2.10.*,!=2.2.*,!=2.3.*,!=2.4.*,!=2.5.*,!=2.6.*,!=2.7.*,!=2.8.*,!=2.9.*,<3.0.0,>=1.34.1->google-ai-generativelanguage<0.7.0,>=0.6.18->langchain-google-genai) (3.3.2)\n",
      "Requirement already satisfied: idna<4,>=2.5 in /Users/abbukhadka/opt/anaconda3/lib/python3.13/site-packages (from requests<3.0.0,>=2.18.0->google-api-core!=2.0.*,!=2.1.*,!=2.10.*,!=2.2.*,!=2.3.*,!=2.4.*,!=2.5.*,!=2.6.*,!=2.7.*,!=2.8.*,!=2.9.*,<3.0.0,>=1.34.1->google-api-core[grpc]!=2.0.*,!=2.1.*,!=2.10.*,!=2.2.*,!=2.3.*,!=2.4.*,!=2.5.*,!=2.6.*,!=2.7.*,!=2.8.*,!=2.9.*,<3.0.0,>=1.34.1->google-ai-generativelanguage<0.7.0,>=0.6.18->langchain-google-genai) (3.7)\n",
      "Requirement already satisfied: urllib3<3,>=1.21.1 in /Users/abbukhadka/opt/anaconda3/lib/python3.13/site-packages (from requests<3.0.0,>=2.18.0->google-api-core!=2.0.*,!=2.1.*,!=2.10.*,!=2.2.*,!=2.3.*,!=2.4.*,!=2.5.*,!=2.6.*,!=2.7.*,!=2.8.*,!=2.9.*,<3.0.0,>=1.34.1->google-api-core[grpc]!=2.0.*,!=2.1.*,!=2.10.*,!=2.2.*,!=2.3.*,!=2.4.*,!=2.5.*,!=2.6.*,!=2.7.*,!=2.8.*,!=2.9.*,<3.0.0,>=1.34.1->google-ai-generativelanguage<0.7.0,>=0.6.18->langchain-google-genai) (2.3.0)\n",
      "Requirement already satisfied: certifi>=2017.4.17 in /Users/abbukhadka/opt/anaconda3/lib/python3.13/site-packages (from requests<3.0.0,>=2.18.0->google-api-core!=2.0.*,!=2.1.*,!=2.10.*,!=2.2.*,!=2.3.*,!=2.4.*,!=2.5.*,!=2.6.*,!=2.7.*,!=2.8.*,!=2.9.*,<3.0.0,>=1.34.1->google-api-core[grpc]!=2.0.*,!=2.1.*,!=2.10.*,!=2.2.*,!=2.3.*,!=2.4.*,!=2.5.*,!=2.6.*,!=2.7.*,!=2.8.*,!=2.9.*,<3.0.0,>=1.34.1->google-ai-generativelanguage<0.7.0,>=0.6.18->langchain-google-genai) (2025.6.15)\n",
      "Requirement already satisfied: pyasn1>=0.1.3 in /Users/abbukhadka/opt/anaconda3/lib/python3.13/site-packages (from rsa<5,>=3.1.4->google-auth!=2.24.0,!=2.25.0,<3.0.0,>=2.14.1->google-ai-generativelanguage<0.7.0,>=0.6.18->langchain-google-genai) (0.4.8)\n",
      "Requirement already satisfied: httpx<1,>=0.23.0 in /Users/abbukhadka/opt/anaconda3/lib/python3.13/site-packages (from langsmith>=0.3.45->langchain-core<0.4.0,>=0.3.66->langchain-google-genai) (0.28.1)\n",
      "Requirement already satisfied: orjson<4.0.0,>=3.9.14 in /Users/abbukhadka/opt/anaconda3/lib/python3.13/site-packages (from langsmith>=0.3.45->langchain-core<0.4.0,>=0.3.66->langchain-google-genai) (3.10.18)\n",
      "Requirement already satisfied: requests-toolbelt<2.0.0,>=1.0.0 in /Users/abbukhadka/opt/anaconda3/lib/python3.13/site-packages (from langsmith>=0.3.45->langchain-core<0.4.0,>=0.3.66->langchain-google-genai) (1.0.0)\n",
      "Requirement already satisfied: zstandard<0.24.0,>=0.23.0 in /Users/abbukhadka/opt/anaconda3/lib/python3.13/site-packages (from langsmith>=0.3.45->langchain-core<0.4.0,>=0.3.66->langchain-google-genai) (0.23.0)\n",
      "Requirement already satisfied: anyio in /Users/abbukhadka/opt/anaconda3/lib/python3.13/site-packages (from httpx<1,>=0.23.0->langsmith>=0.3.45->langchain-core<0.4.0,>=0.3.66->langchain-google-genai) (4.7.0)\n",
      "Requirement already satisfied: httpcore==1.* in /Users/abbukhadka/opt/anaconda3/lib/python3.13/site-packages (from httpx<1,>=0.23.0->langsmith>=0.3.45->langchain-core<0.4.0,>=0.3.66->langchain-google-genai) (1.0.9)\n",
      "Requirement already satisfied: h11>=0.16 in /Users/abbukhadka/opt/anaconda3/lib/python3.13/site-packages (from httpcore==1.*->httpx<1,>=0.23.0->langsmith>=0.3.45->langchain-core<0.4.0,>=0.3.66->langchain-google-genai) (0.16.0)\n",
      "Requirement already satisfied: sniffio>=1.1 in /Users/abbukhadka/opt/anaconda3/lib/python3.13/site-packages (from anyio->httpx<1,>=0.23.0->langsmith>=0.3.45->langchain-core<0.4.0,>=0.3.66->langchain-google-genai) (1.3.0)\n",
      "Note: you may need to restart the kernel to use updated packages.\n"
     ]
    }
   ],
   "source": [
    "%pip install -U langchain-google-genai"
   ]
  },
  {
   "cell_type": "code",
   "execution_count": 8,
   "id": "050fead9-f7d6-4d50-a49c-540ece4f7a73",
   "metadata": {},
   "outputs": [],
   "source": [
    "import getpass\n",
    "import os\n",
    "\n",
    "if \"GOOGLE_API_KEY\" not in os.environ:\n",
    "    os.environ[\"GOOGLE_API_KEY\"] = getpass.getpass(\"Enter your Google AI API key:\")"
   ]
  },
  {
   "cell_type": "code",
   "execution_count": 9,
   "id": "8caea24a-48d2-473c-a52d-77f81873ae0c",
   "metadata": {},
   "outputs": [],
   "source": [
    "from langchain_google_genai import ChatGoogleGenerativeAI\n",
    "\n",
    "llm = ChatGoogleGenerativeAI(\n",
    "    model=\"gemini-2.0-flash\",\n",
    "    temperature=0,\n",
    "    max_tokens=None,\n",
    "    timeout=None,\n",
    "    max_retries=2,\n",
    "    # other params...\n",
    ")"
   ]
  },
  {
   "cell_type": "code",
   "execution_count": null,
   "id": "b23fe0bd-4fc1-4bb9-a9d1-4494114a70b6",
   "metadata": {},
   "outputs": [
    {
     "data": {
      "text/plain": [
       "AIMessage(content=\"Okay, great! Making a music video can be a really fun and creative process. As a cinematography assistant, I can definitely help you with some tips to make your video visually compelling. To give you the best advice, tell me a little more about your project:\\n\\n*   **What's the genre of the music?** (e.g., Pop, Hip-Hop, Rock, Electronic, Country, etc.) This will heavily influence the visual style.\\n*   **What's the song about?** (Themes, emotions, narrative) Understanding the song's message is crucial for creating visuals that complement it.\\n*   **What's your budget?** (Low, Medium, High) This will determine the scope of what's possible in terms of locations, equipment, and crew.\\n*   **What's your location?** (Indoor, Outdoor, Studio)\\n*   **What's your equipment?** (Camera, Lights, etc.)\\n\\nIn the meantime, here are some general cinematography tips for music videos:\\n\\n**1. Visual Style & Concept:**\\n\\n*   **Mood Board:** Create a mood board with images, colors, and textures that reflect the song's atmosphere. This will be your visual guide.\\n*   **Reference Videos:** Watch music videos in the same genre or with a similar vibe to get inspiration. Pay attention to the camera movements, lighting, and editing.\\n*   **Storytelling (If Applicable):** If the song tells a story, think about how you can visually represent that narrative.\\n*   **Abstract Visuals:** If the song is more abstract, consider using symbolic imagery, colors, and textures to convey the emotions and themes.\\n\\n**2. Camera Work:**\\n\\n*   **Movement:**\\n    *   **Static Shots:** Use these for moments of intimacy or emphasis.\\n    *   **Tracking Shots:** Follow the artist as they move, creating a sense of energy.\\n    *   **Dolly Shots:** Smoothly move the camera forward, backward, or sideways to reveal or emphasize elements.\\n    *   **Handheld Shots:** Can add a raw, energetic feel, especially for rock or punk genres.\\n    *   **Crane/Jib Shots:** Offer dynamic, sweeping views.\\n    *   **Drone Shots:** Great for establishing shots and adding a cinematic feel.\\n*   **Angles:**\\n    *   **Low Angle:** Makes the subject look powerful and dominant.\\n    *   **High Angle:** Makes the subject look vulnerable or small.\\n    *   **Eye-Level:** Creates a sense of connection with the viewer.\\n    *   **Dutch Angle (Tilt):** Creates a sense of unease or disorientation.\\n*   **Focal Length:**\\n    *   **Wide Angle:** Captures a broader view, great for establishing shots and creating a sense of space.\\n    *   **Normal Lens:** Provides a natural perspective.\\n    *   **Telephoto Lens:** Compresses the background and isolates the subject, creating a shallow depth of field.\\n*   **Depth of Field:**\\n    *   **Shallow Depth of Field:** Blurs the background, drawing attention to the subject.\\n    *   **Deep Depth of Field:** Keeps everything in focus, great for establishing shots and showing the environment.\\n*   **Framing:**\\n    *   **Rule of Thirds:** Place key elements along the lines or at the intersections of a 3x3 grid.\\n    *   **Leading Lines:** Use lines in the environment to guide the viewer's eye to the subject.\\n    *   **Symmetry:** Creates a sense of balance and order.\\n    *   **Headroom/Leadroom:** Leave appropriate space above the subject's head and in the direction they are looking.\\n\\n**3. Lighting:**\\n\\n*   **Natural Light:** Use it to your advantage, especially for outdoor scenes. Pay attention to the time of day and the direction of the light.\\n*   **Artificial Light:**\\n    *   **Key Light:** The main light source, illuminating the subject.\\n    *   **Fill Light:** Softens the shadows created by the key light.\\n    *   **Backlight (Rim Light):** Separates the subject from the background.\\n*   **Color Temperature:**\\n    *   **Warm Light (Orange/Yellow):** Creates a cozy, inviting atmosphere.\\n    *   **Cool Light (Blue):** Creates a cold, sterile, or dramatic atmosphere.\\n*   **Lighting Effects:**\\n    *   **Gels:** Use colored gels to create different moods and effects.\\n    *   **Gobo:** Use a gobo to project patterns of light and shadow.\\n    *   **Fog/Haze:** Adds atmosphere and depth.\\n*   **Consider the mood:** Is it bright and cheerful, dark and moody, or something in between?\\n\\n**4. Editing:**\\n\\n*   **Sync to the Beat:** Cut the video to the rhythm of the music.\\n*   **Transitions:** Use transitions to create smooth or abrupt changes between scenes.\\n*   **Color Grading:** Adjust the colors to create a specific mood and style.\\n*   **Visual Effects (VFX):** Add visual effects to enhance the visuals and create a unique look.\\n\\n**5. Other Important Tips:**\\n\\n*   **Plan Your Shots:** Create a shot list to ensure you capture all the necessary footage.\\n*   **Rehearse:** Rehearse the shots with the artist and crew to ensure everyone is on the same page.\\n*   **Get Plenty of Coverage:** Shoot multiple takes of each shot to give yourself options in post-production.\\n*   **Sound:** Even though it's a music video, make sure you're capturing clean audio on set for reference and potential sound effects.\\n*   **Have Fun!** Be creative and experiment with different techniques.\\n\\nI'm here to help you refine your ideas and provide more specific advice once I have a better understanding of your project. Let me know more about your music video!\", additional_kwargs={}, response_metadata={'prompt_feedback': {'block_reason': 0, 'safety_ratings': []}, 'finish_reason': 'STOP', 'model_name': 'gemini-2.0-flash', 'safety_ratings': []}, id='run--b8f39738-41a3-49d7-b93c-6dd62570daad-0', usage_metadata={'input_tokens': 19, 'output_tokens': 1269, 'total_tokens': 1288, 'input_token_details': {'cache_read': 0}})"
      ]
     },
     "execution_count": 11,
     "metadata": {},
     "output_type": "execute_result"
    }
   ],
   "source": [
    "messages = [\n",
    "    (\n",
    "        \"system\",\n",
    "        \"You are a cinematographer assistance. Give help full tips.\",\n",
    "    ),\n",
    "    (\"human\", \"I want to make music video.\"),\n",
    "]\n",
    "ai_msg = llm.invoke(messages)\n",
    "ai_msg"
   ]
  },
  {
   "cell_type": "code",
   "execution_count": null,
   "id": "85b42297-3959-48be-8bc1-6a406bcc4eeb",
   "metadata": {},
   "outputs": [
    {
     "name": "stdout",
     "output_type": "stream",
     "text": [
      "Okay, great! Making a music video can be a really fun and creative process. As a cinematography assistant, I can definitely help you with some tips to make your video visually compelling. To give you the best advice, tell me a little more about your project:\n",
      "\n",
      "*   **What's the genre of the music?** (e.g., Pop, Hip-Hop, Rock, Electronic, Country, etc.) This will heavily influence the visual style.\n",
      "*   **What's the song about?** (Themes, emotions, narrative) Understanding the song's message is crucial for creating visuals that complement it.\n",
      "*   **What's your budget?** (Low, Medium, High) This will determine the scope of what's possible in terms of locations, equipment, and crew.\n",
      "*   **What's your location?** (Indoor, Outdoor, Studio)\n",
      "*   **What's your equipment?** (Camera, Lights, etc.)\n",
      "\n",
      "In the meantime, here are some general cinematography tips for music videos:\n",
      "\n",
      "**1. Visual Style & Concept:**\n",
      "\n",
      "*   **Mood Board:** Create a mood board with images, colors, and textures that reflect the song's atmosphere. This will be your visual guide.\n",
      "*   **Reference Videos:** Watch music videos in the same genre or with a similar vibe to get inspiration. Pay attention to the camera movements, lighting, and editing.\n",
      "*   **Storytelling (If Applicable):** If the song tells a story, think about how you can visually represent that narrative.\n",
      "*   **Abstract Visuals:** If the song is more abstract, consider using symbolic imagery, colors, and textures to convey the emotions and themes.\n",
      "\n",
      "**2. Camera Work:**\n",
      "\n",
      "*   **Movement:**\n",
      "    *   **Static Shots:** Use these for moments of intimacy or emphasis.\n",
      "    *   **Tracking Shots:** Follow the artist as they move, creating a sense of energy.\n",
      "    *   **Dolly Shots:** Smoothly move the camera forward, backward, or sideways to reveal or emphasize elements.\n",
      "    *   **Handheld Shots:** Can add a raw, energetic feel, especially for rock or punk genres.\n",
      "    *   **Crane/Jib Shots:** Offer dynamic, sweeping views.\n",
      "    *   **Drone Shots:** Great for establishing shots and adding a cinematic feel.\n",
      "*   **Angles:**\n",
      "    *   **Low Angle:** Makes the subject look powerful and dominant.\n",
      "    *   **High Angle:** Makes the subject look vulnerable or small.\n",
      "    *   **Eye-Level:** Creates a sense of connection with the viewer.\n",
      "    *   **Dutch Angle (Tilt):** Creates a sense of unease or disorientation.\n",
      "*   **Focal Length:**\n",
      "    *   **Wide Angle:** Captures a broader view, great for establishing shots and creating a sense of space.\n",
      "    *   **Normal Lens:** Provides a natural perspective.\n",
      "    *   **Telephoto Lens:** Compresses the background and isolates the subject, creating a shallow depth of field.\n",
      "*   **Depth of Field:**\n",
      "    *   **Shallow Depth of Field:** Blurs the background, drawing attention to the subject.\n",
      "    *   **Deep Depth of Field:** Keeps everything in focus, great for establishing shots and showing the environment.\n",
      "*   **Framing:**\n",
      "    *   **Rule of Thirds:** Place key elements along the lines or at the intersections of a 3x3 grid.\n",
      "    *   **Leading Lines:** Use lines in the environment to guide the viewer's eye to the subject.\n",
      "    *   **Symmetry:** Creates a sense of balance and order.\n",
      "    *   **Headroom/Leadroom:** Leave appropriate space above the subject's head and in the direction they are looking.\n",
      "\n",
      "**3. Lighting:**\n",
      "\n",
      "*   **Natural Light:** Use it to your advantage, especially for outdoor scenes. Pay attention to the time of day and the direction of the light.\n",
      "*   **Artificial Light:**\n",
      "    *   **Key Light:** The main light source, illuminating the subject.\n",
      "    *   **Fill Light:** Softens the shadows created by the key light.\n",
      "    *   **Backlight (Rim Light):** Separates the subject from the background.\n",
      "*   **Color Temperature:**\n",
      "    *   **Warm Light (Orange/Yellow):** Creates a cozy, inviting atmosphere.\n",
      "    *   **Cool Light (Blue):** Creates a cold, sterile, or dramatic atmosphere.\n",
      "*   **Lighting Effects:**\n",
      "    *   **Gels:** Use colored gels to create different moods and effects.\n",
      "    *   **Gobo:** Use a gobo to project patterns of light and shadow.\n",
      "    *   **Fog/Haze:** Adds atmosphere and depth.\n",
      "*   **Consider the mood:** Is it bright and cheerful, dark and moody, or something in between?\n",
      "\n",
      "**4. Editing:**\n",
      "\n",
      "*   **Sync to the Beat:** Cut the video to the rhythm of the music.\n",
      "*   **Transitions:** Use transitions to create smooth or abrupt changes between scenes.\n",
      "*   **Color Grading:** Adjust the colors to create a specific mood and style.\n",
      "*   **Visual Effects (VFX):** Add visual effects to enhance the visuals and create a unique look.\n",
      "\n",
      "**5. Other Important Tips:**\n",
      "\n",
      "*   **Plan Your Shots:** Create a shot list to ensure you capture all the necessary footage.\n",
      "*   **Rehearse:** Rehearse the shots with the artist and crew to ensure everyone is on the same page.\n",
      "*   **Get Plenty of Coverage:** Shoot multiple takes of each shot to give yourself options in post-production.\n",
      "*   **Sound:** Even though it's a music video, make sure you're capturing clean audio on set for reference and potential sound effects.\n",
      "*   **Have Fun!** Be creative and experiment with different techniques.\n",
      "\n",
      "I'm here to help you refine your ideas and provide more specific advice once I have a better understanding of your project. Let me know more about your music video!\n"
     ]
    }
   ],
   "source": [
    "print(ai_msg.content)"
   ]
  },
  {
   "cell_type": "code",
   "execution_count": 1,
   "id": "82d23dcb-df61-40e1-ba61-09095a86f6da",
   "metadata": {},
   "outputs": [
    {
     "name": "stdout",
     "output_type": "stream",
     "text": [
      "Requirement already satisfied: pip in /Users/abbukhadka/opt/anaconda3/lib/python3.13/site-packages (25.1)\n",
      "Collecting pip\n",
      "  Downloading pip-25.1.1-py3-none-any.whl.metadata (3.6 kB)\n",
      "Downloading pip-25.1.1-py3-none-any.whl (1.8 MB)\n",
      "\u001b[2K   \u001b[90m━━━━━━━━━━━━━━━━━━━━━━━━━━━━━━━━━━━━━━━━\u001b[0m \u001b[32m1.8/1.8 MB\u001b[0m \u001b[31m5.6 MB/s\u001b[0m eta \u001b[36m0:00:00\u001b[0ma \u001b[36m0:00:01\u001b[0m\n",
      "Installing collected packages: pip\n",
      "  Attempting uninstall: pip\n",
      "    Found existing installation: pip 25.1\n",
      "    Uninstalling pip-25.1:\n",
      "      Successfully uninstalled pip-25.1\n",
      "Successfully installed pip-25.1.1\n",
      "Note: you may need to restart the kernel to use updated packages.\n"
     ]
    }
   ],
   "source": [
    "pip install --upgrade pip"
   ]
  },
  {
   "cell_type": "code",
   "execution_count": 5,
   "id": "ab506359-dedc-4842-9acb-e497f07bb297",
   "metadata": {},
   "outputs": [
    {
     "name": "stdout",
     "output_type": "stream",
     "text": [
      "\u001b[31mERROR: Could not open requirements file: [Errno 2] No such file or directory: 'requirements.txt'\u001b[0m\u001b[31m\n",
      "\u001b[0m"
     ]
    }
   ],
   "source": []
  },
  {
   "cell_type": "code",
   "execution_count": null,
   "id": "1c409531-4ee5-4b21-8357-377b1921d8ee",
   "metadata": {},
   "outputs": [],
   "source": []
  }
 ],
 "metadata": {
  "kernelspec": {
   "display_name": "Python [conda env:base] *",
   "language": "python",
   "name": "conda-base-py"
  },
  "language_info": {
   "codemirror_mode": {
    "name": "ipython",
    "version": 3
   },
   "file_extension": ".py",
   "mimetype": "text/x-python",
   "name": "python",
   "nbconvert_exporter": "python",
   "pygments_lexer": "ipython3",
   "version": "3.13.5"
  }
 },
 "nbformat": 4,
 "nbformat_minor": 5
}
